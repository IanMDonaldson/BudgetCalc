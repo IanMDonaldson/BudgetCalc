{
 "cells": [
  {
   "cell_type": "code",
   "execution_count": 2,
   "id": "a83b53df-5ae0-4606-bf24-15e93c1f59d8",
   "metadata": {},
   "outputs": [],
   "source": [
    "import tabulate\n",
    "import pdfplumber\n",
    "from Utils.ParserUtils import convert_currency_to_intstr, format_date, clean_description"
   ]
  },
  {
   "cell_type": "code",
   "execution_count": 18,
   "id": "d19b05f7-86e7-44f9-9a40-c4e6cd6ab073",
   "metadata": {},
   "outputs": [
    {
     "name": "stdout",
     "output_type": "stream",
     "text": [
      "*00000*\n",
      "*00000*\n",
      "RedCardEndingin: 6967\n",
      "AccountIdentificationNumber:00071147002\n",
      "StatementClosingDate:March19,2024\n",
      "IANMDONALDSON Page2of2\n",
      "Transactions\n",
      "TransDate DescriptionofTransactionorCredit Location Amount\n",
      "PaymentsAndOtherCredits\n",
      "Nopaymentsorcreditswerereceivedlastmonth.\n",
      "PurchasesAndOtherDebits\n",
      "Mar. 11 TARGET LITTLEROCK,AR $12.88\n",
      "Mar. 13 TARGET LITTLEROCK,AR $13.40\n",
      "TOTALPURCHASESANDOTHERDEBITSFORTHISPERIOD $26.28\n",
      "2024TotalsYear-to-Date\n",
      "Totalfeeschargedin2024 $0.00\n",
      "Totalinterestchargedin2024 $0.00\n",
      "InterestChargeCalculation\n",
      "YourAnnualPercentageRate(APR)istheannualinterestrateonyouraccount.\n",
      "BalanceSubjectto\n",
      "TypeofBalance AnnualPercentageRate(APR) InterestRate InterestCharge\n",
      "Purchases 28.15% (v) $0.00 $0.00\n",
      "(v)=VariableRate\n",
      "ThereisaMinimumChargeof$1.00foranybillingperiodinwhichaninterestchargeisimposed.\n",
      "MaketheMostofYourRedCard\n",
      "ManageYourAccountOnline ActionRequested SaveatTargetandTarget.com\n",
      "-ViewStatements Changestatementdeliveryto -Save5%offeveryTargettrip\n",
      "-Makepayments paperless. -FreeshippingonmostTarget.com\n",
      "-Setupalerts -Getnotifiedbyemailwhenyour orders\n",
      "statementsareready -5%offStarbucksatTarget\n",
      "-EnrollinAutoPay\n",
      "You'vesaved$1.96thisyear!\n",
      "Target.com/myRedCard Target.com/myRedCard\n",
      "Notavailableforallaccounts,includingclosed\n",
      "Notavailableforallaccounts,includingclosed Somerestrictionsapply.Pleaseseeprogram\n",
      "accountsandsomerestrictedstatuses.\n",
      "accountsandsomerestrictedstatuses. rulesinstoreoratTarget.com/RedCardfor\n",
      "details.\n",
      "71147002\n"
     ]
    }
   ],
   "source": [
    "pdf = pdfplumber.open(\"../bankStatements/March/targetMarch.pdf\")\n",
    "# pdf = pdfplumber.open(\"../bankStatements/JulyUSBank.pdf\")\n",
    "# pdf = pdfplumber.open(\"../bankStatements/usbankMay.pdf\")\n",
    "\n",
    "\n",
    "page = pdf.pages[1]\n",
    "\n",
    "print(page.extract_text(y_tolerance=1))\n",
    "# crop_page = page.within_bbox((0, page.height*0.15, page.width, page.height*0.5))\n",
    "# image = crop_page.to_image()\n",
    "# image.debug_tablefinder({\"explicit_vertical_lines\":[5,18, 70, 470,510], \"horizontal_strategy\": \"text\"})\n",
    "\n",
    "# table = crop_page.extract_table({\"explicit_vertical_lines\":[70, 100, 175,470,526], \"horizontal_strategy\": \"text\"})\n",
    "\n",
    "    \n",
    "# image = page.to_image()\n",
    "# image.debug_tablefinder({\"explicit_vertical_lines\":[5, 70, 470,526], \"horizontal_strategy\": \"text\"})\n",
    "\n",
    "\n",
    "\n",
    "# crop_page = page.crop((0, page.height*0.5, page.width, page.height))\n",
    "# crop_page.debug_tablefinder()"
   ]
  },
  {
   "cell_type": "code",
   "execution_count": null,
   "id": "08aa553b-2fc3-431b-9c09-2efd878f5a7d",
   "metadata": {},
   "outputs": [],
   "source": []
  }
 ],
 "metadata": {
  "kernelspec": {
   "display_name": "Python 3 (ipykernel)",
   "language": "python",
   "name": "python3"
  },
  "language_info": {
   "codemirror_mode": {
    "name": "ipython",
    "version": 3
   },
   "file_extension": ".py",
   "mimetype": "text/x-python",
   "name": "python",
   "nbconvert_exporter": "python",
   "pygments_lexer": "ipython3",
   "version": "3.12.4"
  }
 },
 "nbformat": 4,
 "nbformat_minor": 5
}
